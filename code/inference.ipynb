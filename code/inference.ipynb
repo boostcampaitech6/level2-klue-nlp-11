{
 "cells": [
  {
   "cell_type": "code",
   "execution_count": 1,
   "metadata": {},
   "outputs": [],
   "source": [
    "from transformers import AutoTokenizer, AutoConfig, AutoModelForSequenceClassification, Trainer, TrainingArguments\n",
    "from torch.utils.data import DataLoader\n",
    "from load_data import *\n",
    "import pandas as pd\n",
    "import torch\n",
    "import torch.nn.functional as F\n",
    "\n",
    "import pickle as pickle\n",
    "import numpy as np\n",
    "import argparse\n",
    "from tqdm import tqdm\n",
    "from load_data_copy import *\n",
    "from train import set_seed\n"
   ]
  },
  {
   "cell_type": "code",
   "execution_count": 12,
   "metadata": {},
   "outputs": [],
   "source": [
    "def inference(model, tokenized_sent, device):\n",
    "  \"\"\"\n",
    "    test dataset을 DataLoader로 만들어 준 후,\n",
    "    batch_size로 나눠 model이 예측 합니다.\n",
    "  \"\"\"\n",
    "  dataloader = DataLoader(tokenized_sent, batch_size=32, shuffle=False)\n",
    "  model.eval()\n",
    "  output_pred = []\n",
    "  output_prob = []\n",
    "  for i, data in enumerate(tqdm(dataloader)):\n",
    "    # print(data.keys())\n",
    "    del data['labels']\n",
    "    with torch.no_grad():\n",
    "      outputs = model(\n",
    "          # **data\n",
    "          input_ids=data['input_ids'].to(device),\n",
    "          attention_mask=data['attention_mask'].to(device),\n",
    "          token_type_ids=data['token_type_ids'].to(device)\n",
    "          )\n",
    "    logits = outputs[0]\n",
    "    prob = F.softmax(logits, dim=-1).detach().cpu().numpy()\n",
    "    logits = logits.detach().cpu().numpy()\n",
    "    result = np.argmax(logits, axis=-1)\n",
    "\n",
    "    output_pred.append(result)\n",
    "    output_prob.append(prob)\n",
    "  \n",
    "  return np.concatenate(output_pred).tolist(), np.concatenate(output_prob, axis=0).tolist()\n"
   ]
  },
  {
   "cell_type": "code",
   "execution_count": 13,
   "metadata": {},
   "outputs": [],
   "source": [
    "def num_to_label(label):\n",
    "  \"\"\"\n",
    "    숫자로 되어 있던 class를 원본 문자열 라벨로 변환 합니다.\n",
    "  \"\"\"\n",
    "  origin_label = []\n",
    "  with open('dict_num_to_label.pkl', 'rb') as f:\n",
    "    dict_num_to_label = pickle.load(f)\n",
    "  for v in label:\n",
    "    origin_label.append(dict_num_to_label[v])\n",
    "  \n",
    "  return origin_label\n",
    "\n",
    "def load_test_dataset(dataset_dir, tokenizer):\n",
    "  \"\"\"\n",
    "    test dataset을 불러온 후,\n",
    "    tokenizing 합니다.\n",
    "  \"\"\"\n",
    "  test_dataset = load_data(dataset_dir)\n",
    "  test_label = list(map(int,test_dataset['label'].values))\n",
    "  # tokenizing dataset\n",
    "  tokenized_test = tokenized_dataset(test_dataset, tokenizer)\n",
    "  test_ent_pos_emb = get_entity_position_embedding(tokenizer, tokenized_test['input_ids'])\n",
    "  print(len(tokenized_test['input_ids'][0]))\n",
    "  for i in test_ent_pos_emb:\n",
    "    if len(i) == 4:continue\n",
    "    else:\n",
    "      print(\"error\")\n",
    "  tokenized_test['entity_ids'] = making_entity_pos_emb(test_ent_pos_emb)\n",
    "  \n",
    "  return test_dataset['id'], tokenized_test, test_label"
   ]
  },
  {
   "cell_type": "code",
   "execution_count": 17,
   "metadata": {},
   "outputs": [],
   "source": [
    "def main(args):\n",
    "  set_seed(42)\n",
    "  \"\"\"\n",
    "    주어진 dataset csv 파일과 같은 형태일 경우 inference 가능한 코드입니다.\n",
    "  \"\"\"\n",
    "  device = torch.device('cuda:0' if torch.cuda.is_available() else 'cpu')\n",
    "  # load tokenizer\n",
    "  Tokenizer_NAME = \"klue/roberta-large\"\n",
    "  tokenizer = AutoTokenizer.from_pretrained(Tokenizer_NAME, additional_special_tokens=['#', '@'])\n",
    "\n",
    "  ## load my model\n",
    "  MODEL_NAME = args.model_dir # model dir.\n",
    "  # model = torch.load('./results/checkpoint-2500_try1/model.safetensors', map_location=torch.device(device))\n",
    " \n",
    "  model = AutoModelForSequenceClassification.from_pretrained(args.model_dir)\n",
    "  model.parameters\n",
    "  model.to(device)\n",
    "\n",
    "  ## load test datset\n",
    "  test_dataset_dir = \"../dataset/test/test_data_split.csv\"\n",
    "  test_id, test_dataset, test_label = load_test_dataset(test_dataset_dir, tokenizer)\n",
    "  Re_test_dataset = RE_Dataset(test_dataset ,test_label)\n",
    "\n",
    "  ## predict answer\n",
    "  pred_answer, output_prob = inference(model, Re_test_dataset, device) # model에서 class 추론\n",
    "  pred_answer = num_to_label(pred_answer) # 숫자로 된 class를 원래 문자열 라벨로 변환.\n",
    "  \n",
    "  ## make csv file with predicted answer\n",
    "  #########################################################\n",
    "  # 아래 directory와 columns의 형태는 지켜주시기 바랍니다.\n",
    "  output = pd.DataFrame({'id':test_id,'pred_label':pred_answer,'probs':output_prob,})\n",
    "\n",
    "  output.to_csv('./prediction/submission.csv', index=False) # 최종적으로 완성된 예측한 라벨 csv 파일 형태로 저장.\n",
    "  #### 필수!! ##############################################\n",
    "  print('---- Finish! ----')"
   ]
  },
  {
   "cell_type": "code",
   "execution_count": 22,
   "metadata": {},
   "outputs": [
    {
     "name": "stdout",
     "output_type": "stream",
     "text": [
      "dsafsdf\n",
      "Namespace(model_dir='./results/checkpoint-1500')\n"
     ]
    },
    {
     "name": "stderr",
     "output_type": "stream",
     "text": [
      "100%|██████████| 7765/7765 [00:02<00:00, 2810.92it/s]\n"
     ]
    },
    {
     "name": "stdout",
     "output_type": "stream",
     "text": [
      "256\n"
     ]
    },
    {
     "name": "stderr",
     "output_type": "stream",
     "text": [
      "7765it [00:00, 141367.94it/s]\n",
      "100%|██████████| 243/243 [01:49<00:00,  2.23it/s]\n"
     ]
    },
    {
     "name": "stdout",
     "output_type": "stream",
     "text": [
      "---- Finish! ----\n"
     ]
    }
   ],
   "source": [
    "if __name__ == '__main__':\n",
    "  parser = argparse.ArgumentParser()\n",
    "  \n",
    "  # model dir\n",
    "  parser.add_argument('--model_dir', type=str, default=\"./results/checkpoint-1500\")\n",
    "  print(\"dsafsdf\")\n",
    "  args, unknown = parser.parse_known_args()\n",
    "  print(args)\n",
    "  main(args)"
   ]
  },
  {
   "cell_type": "code",
   "execution_count": null,
   "metadata": {},
   "outputs": [],
   "source": []
  }
 ],
 "metadata": {
  "kernelspec": {
   "display_name": "venv1",
   "language": "python",
   "name": "python3"
  },
  "language_info": {
   "codemirror_mode": {
    "name": "ipython",
    "version": 3
   },
   "file_extension": ".py",
   "mimetype": "text/x-python",
   "name": "python",
   "nbconvert_exporter": "python",
   "pygments_lexer": "ipython3",
   "version": "3.10.13"
  }
 },
 "nbformat": 4,
 "nbformat_minor": 2
}
