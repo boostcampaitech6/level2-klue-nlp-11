{
 "cells": [
  {
   "cell_type": "code",
   "execution_count": null,
   "metadata": {},
   "outputs": [],
   "source": [
    "# 진행 단계: 모든 파일은 코드 확인 및 수정 후 실행할 것\n",
    "# 1. data_aug.ipynb -> 2. adding_special_token.ipynb -> 3. separate_dev_data.ipynb -> \n",
    "# 4. config.yaml 수정 -> 5. train.py -> 6. inference.py -> 7. ensemble.ipynb\n",
    "\n",
    "# 노트북 파일을 dataset 폴더에서 code 폴더로 옮겼기에, 데이터 경로를 바꿔야 함\n",
    "\n",
    "label_list = ['no_relation', 'org:top_members/employees', 'org:members',\n",
    "       'org:product', 'per:title', 'org:alternate_names',\n",
    "       'per:employee_of', 'org:place_of_headquarters', 'per:product',\n",
    "       'org:number_of_employees/members', 'per:children',\n",
    "       'per:place_of_residence', 'per:alternate_names',\n",
    "       'per:other_family', 'per:colleagues', 'per:origin', 'per:siblings',\n",
    "       'per:spouse', 'org:founded', 'org:political/religious_affiliation',\n",
    "       'org:member_of', 'per:parents', 'org:dissolved',\n",
    "       'per:schools_attended', 'per:date_of_death', 'per:date_of_birth',\n",
    "       'per:place_of_birth', 'per:place_of_death', 'org:founded_by',\n",
    "       'per:religion']"
   ]
  },
  {
   "cell_type": "code",
   "execution_count": null,
   "metadata": {},
   "outputs": [],
   "source": [
    "import pandas as pd\n",
    "\n",
    "df_num = 1  # 바꿔야 할 숫자\n",
    "# 베이스 데이터프레임\n",
    "df1 = pd.read_csv(\"../code/prediction/submission_aug_copy_typed_entity_marker_punc_10portions_01.csv\").drop(['pred_label'], axis=1)\n",
    "df1.rename(columns = {'probs': 'probs1'}, inplace = True)\n",
    "# 각 예측 확률값을 베이스 데이터프레임에 추가함\n",
    "for i in range(2, df_num+1):\n",
    "    temp_df = pd.read_csv(\"../code/prediction/submission_aug_copy_typed_entity_marker_punc_10portions_{0:02d}.csv\".format(i)).drop(['pred_label'], axis=1)\n",
    "    temp_df.rename(columns = {'probs': 'probs{0}'.format(i)}, inplace = True)\n",
    "    df1 = pd.merge(left = df1 , right = temp_df, how = \"inner\",)\n",
    "df1"
   ]
  },
  {
   "cell_type": "code",
   "execution_count": null,
   "metadata": {},
   "outputs": [],
   "source": [
    "probs_list = []  # index별 확률분포\n",
    "pred_label_list = []  # index별 예상 라벨\n",
    "from ast import literal_eval\n",
    "for idx, row in df1.iterrows():\n",
    "    # soft-voting 하기\n",
    "    probs = [0 for _ in range(len(literal_eval(row['probs1'])))]  # 라벨별 확률 리스트 초기화\n",
    "    for i in range(1,df_num+1):\n",
    "        temp_probs = literal_eval(row['probs{0}'.format(i)]) # type==list\n",
    "        for j in range(len(probs)):\n",
    "            #probs[j] += temp_probs[j]/df_num  # soft-voting(라벨별 평균 확률)을 내기 위해 라벨별 확률을 데이터프레임 수만큼 나눈 후 probs 리스트에 추가\n",
    "            probs[j] += temp_probs[j]/(df_num-1)\n",
    "    \n",
    "    # 인덱스별로 확률이 가장 높은 라벨 구하기\n",
    "    max_i = 0\n",
    "    max_prob = 0\n",
    "    for i in range(len(probs)):\n",
    "        if max_prob < probs[i]:\n",
    "            max_prob = probs[i]\n",
    "            max_i = i\n",
    "    probs_list.append(probs)\n",
    "    pred_label_list.append(label_list[max_i])\n",
    "\n",
    "# 제출물 포맷에 맞게 컬럼 추가하기\n",
    "df1['pred_label']=pred_label_list\n",
    "df1['probs']=probs_list\n",
    "df1 = df1.drop(['probs{}'.format(i) for i in range(1,df_num+1)], axis=1)  # 이미 써서 쓸모 없는 컬럼은 제거\n",
    "df1.to_csv(\"../code/prediction/submission_aug_copy_typed_entity_marker_punc_10portions_01-{0:02d}.csv\".format(df_num), index=False)\n",
    "df1"
   ]
  },
  {
   "cell_type": "code",
   "execution_count": null,
   "metadata": {},
   "outputs": [],
   "source": [
    "import matplotlib.pyplot as plt\n",
    "import numpy as np\n",
    "df = pd.read_csv(\"../code/prediction/submission_aug_copy_typed_entity_marker_punc_10portions_01-{0:02d}.csv\".format(df_num), index=False)\n",
    "plot = pd.value_counts(df['pred_label'].values, sort=True)\n",
    "plot.plot.bar()"
   ]
  }
 ],
 "metadata": {
  "kernelspec": {
   "display_name": "base",
   "language": "python",
   "name": "python3"
  },
  "language_info": {
   "codemirror_mode": {
    "name": "ipython",
    "version": 3
   },
   "file_extension": ".py",
   "mimetype": "text/x-python",
   "name": "python",
   "nbconvert_exporter": "python",
   "pygments_lexer": "ipython3",
   "version": "3.8.5"
  }
 },
 "nbformat": 4,
 "nbformat_minor": 2
}
