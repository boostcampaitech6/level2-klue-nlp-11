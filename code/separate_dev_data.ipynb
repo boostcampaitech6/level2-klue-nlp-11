{
 "cells": [
  {
   "cell_type": "code",
   "execution_count": null,
   "metadata": {},
   "outputs": [],
   "source": [
    "# 진행 단계: 모든 파일은 코드 확인 및 수정 후 실행할 것\n",
    "# 1. data_aug.ipynb -> 2. adding_special_token.ipynb -> 3. separate_dev_data.ipynb -> \n",
    "# 4. config.yaml 수정 -> 5. train.py -> 6. inference.py -> 7. ensemble.ipynb(4~7 k번 반복)\n",
    "\n",
    "# 노트북 파일을 dataset 폴더에서 code 폴더로 옮겼기에, 데이터 경로를 바꿔야 함\n",
    "\n",
    "import pandas as pd\n",
    "portion = 10  # 10개로 나누기(=10%)\n",
    "load_path = './train/'\n",
    "save_path = './train/withDev-aug-copy/'  # 저장할 폴더(개인적으로 따로 구분해서 지정함)\n",
    "common_name = 'aug_copy_typed_entity_marker_punc'  # 추가할 파일명\n",
    "original_train_data_name = 'train_{}.csv'.format(common_name)\n",
    "original_train_data = pd.read_csv(load_path + original_train_data_name)\n",
    "print(\"data length:\",len(original_train_data))\n",
    "\n",
    "for i in range(1, portion+1):\n",
    "    # dev data로 지정할 범위\n",
    "    range_from = len(original_train_data)//portion*(i-1)\n",
    "    range_to = len(original_train_data)//portion*i\n",
    "\n",
    "    #dev data 범위 지정\n",
    "    dev_data = original_train_data.iloc[range_from:range_to]\n",
    "    \n",
    "    # train data 범위 지정\n",
    "    if i == 1:\n",
    "        new_train_data = original_train_data.iloc[range_to:]\n",
    "    elif i == portion:\n",
    "        new_train_data = original_train_data.iloc[:range_from]\n",
    "    else:\n",
    "        new_train_data = pd.concat([original_train_data.iloc[:range_from],original_train_data.iloc[range_to:]])\n",
    "    \n",
    "    # data 이름 지정\n",
    "    new_train_data_name = 'train_{0}_{1}portions_{2:02d}.csv'.format(common_name, portion, i)\n",
    "    dev_data_name = 'dev_{0}_{1}portions_{2:02d}.csv'.format(common_name, portion, i)\n",
    "\n",
    "    # 저장\n",
    "    print('saving...{0:03d}/{1:03d}'.format(i,portion))\n",
    "    new_train_data.to_csv(save_path + new_train_data_name)\n",
    "    dev_data.to_csv(save_path + dev_data_name)\n",
    "print(\"Complete\")\n"
   ]
  },
  {
   "cell_type": "code",
   "execution_count": null,
   "metadata": {},
   "outputs": [],
   "source": [
    "new_train_data"
   ]
  }
 ],
 "metadata": {
  "kernelspec": {
   "display_name": "base",
   "language": "python",
   "name": "python3"
  },
  "language_info": {
   "codemirror_mode": {
    "name": "ipython",
    "version": 3
   },
   "file_extension": ".py",
   "mimetype": "text/x-python",
   "name": "python",
   "nbconvert_exporter": "python",
   "pygments_lexer": "ipython3",
   "version": "3.8.5"
  }
 },
 "nbformat": 4,
 "nbformat_minor": 2
}
